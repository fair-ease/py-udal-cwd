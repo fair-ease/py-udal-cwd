{
 "cells": [
  {
   "cell_type": "code",
   "execution_count": null,
   "metadata": {},
   "outputs": [],
   "source": [
    "from shapely import Point, Polygon\n",
    "from udal.specification import Config\n",
    "from cwd.udal import UDAL\n",
    "\n",
    "udal = UDAL(config=Config(cache_dir='udal_cache'))\n",
    "\n",
    "points = [\n",
    "    Point(30.0, -18.5),\n",
    "    Point(43.2, -18.5),\n",
    "    Point(43.2, - 0.8),\n",
    "    Point(43.2, - 0.8),\n",
    "    Point(46.5,  16.0),\n",
    "    Point(41.8,  26.8),\n",
    "    Point(40.3,  26.8),\n",
    "    Point(38.0,  36.5),\n",
    "    Point(30.0,  36.5),\n",
    "]\n",
    "mediterranean_poly = Polygon([[p.x, p.y] for p in points])\n",
    "\n",
    "params = {\n",
    "    'latest': False,\n",
    "    'polygon': mediterranean_poly,\n",
    "    'time_range': '2024-09-30T00:00:00Z/2024-10-14T00:00:00Z',\n",
    "    'data_type': 'MO',\n",
    "    'file_type': 'TS',\n",
    "}\n",
    "result = udal.execute('urn:fairease.eu:udal:cwd:NAME', params)\n",
    "result.data()\n"
   ]
  },
  {
   "cell_type": "code",
   "execution_count": null,
   "metadata": {},
   "outputs": [],
   "source": [
    "import folium\n",
    "\n",
    "edges_ = [\n",
    "    [ 30.0, -18.5],\n",
    "    [ 43.2, -18.5],\n",
    "    [ 43.2, - 0.8],\n",
    "    [ 43.2, - 0.8],\n",
    "    [ 46.5,  16.0],\n",
    "    [ 41.8,  26.8],\n",
    "    [ 40.3,  26.8],\n",
    "    [ 30.0,  36.5],\n",
    "    [ 38.0,  36.5],\n",
    "]\n",
    "\n",
    "m = folium.Map(location=[39.3, 0], zoom_start=5)\n",
    "m.add_child(folium.Polygon(locations=edges_))\n",
    "# TODO add data from the UDAL query to the map\n",
    "m.fit_bounds(edges_, max_zoom=8)\n",
    "m"
   ]
  }
 ],
 "metadata": {
  "language_info": {
   "file_extension": ".py",
   "mimetype": "text/x-python",
   "name": "python"
  }
 }
}
